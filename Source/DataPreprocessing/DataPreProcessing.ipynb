{
 "cells": [
  {
   "cell_type": "markdown",
   "metadata": {},
   "source": [
    "## Data Visualization Course | VNU-HCM University of Science.\n",
    "### Final Project\n",
    "#### **STEP 02 - DATA Preprocessing**"
   ]
  },
  {
   "cell_type": "code",
   "execution_count": null,
   "metadata": {},
   "outputs": [],
   "source": [
    "import sys\n",
    "import os\n",
    "shared_path = os.path.abspath(os.path.join(os.getcwd(), '..', 'Shared'))\n",
    "sys.path.append(shared_path)"
   ]
  },
  {
   "cell_type": "code",
   "execution_count": null,
   "metadata": {},
   "outputs": [],
   "source": [
    "from Libraries import *\n",
    "from Shared_Functions import *"
   ]
  },
  {
   "cell_type": "code",
   "execution_count": null,
   "metadata": {},
   "outputs": [],
   "source": [
    "dataset_source_path = getGranDir() / 'Dataset'\n",
    "pre_process_dataset_path = dataset_source_path / '2021.csv'\n",
    "raw_df = pd.read_csv(pre_process_dataset_path, index_col=0)\n",
    "raw_df.head()"
   ]
  },
  {
   "cell_type": "markdown",
   "metadata": {},
   "source": [
    "**1. Kiểm tra kiểu dữ liệu và số lượng hàng, cột**"
   ]
  },
  {
   "cell_type": "code",
   "execution_count": null,
   "metadata": {},
   "outputs": [],
   "source": [
    "print(raw_df.dtypes)\n",
    "raw_df.shape"
   ]
  },
  {
   "cell_type": "markdown",
   "metadata": {},
   "source": [
    "**Nhận xét:** Các cột đã có kiểu dữ liệu phù hợp với ý nghĩa."
   ]
  },
  {
   "cell_type": "markdown",
   "metadata": {},
   "source": [
    "**2. Kiểm tra điều kiện tồn tại của các cột.**"
   ]
  },
  {
   "cell_type": "markdown",
   "metadata": {},
   "source": [
    "**2.1 Kiểm tra cột ID: các ID này phải là DUY NHẤT, và phải lớn hơn 0.**"
   ]
  },
  {
   "cell_type": "code",
   "execution_count": null,
   "metadata": {},
   "outputs": [],
   "source": [
    "# ID\n",
    "ID_col = raw_df['id']\n",
    "less_than_0 = ID_col[ID_col < 0]\n",
    "duplicate_values = ID_col[ID_col.duplicated(keep=False)]\n",
    "print('Less than zero: ')\n",
    "print(less_than_0)\n",
    "print('Values is not unique: ')\n",
    "print(duplicate_values)"
   ]
  },
  {
   "cell_type": "markdown",
   "metadata": {},
   "source": [
    "**Nhận xét:** Như vậy không có giá trị nào bé hơn không và không có giá trị nào bị trùng lập.\n",
    "\n",
    "**Kết luận:** Vì không có trùng lặp cho nên không có hàng nào trong dataset sẽ bị trùng lập."
   ]
  },
  {
   "cell_type": "markdown",
   "metadata": {},
   "source": [
    "**2.2 Kiểm tra cột Year: Year phải lớn hơn 0 và phải bằng 2022.**"
   ]
  },
  {
   "cell_type": "code",
   "execution_count": null,
   "metadata": {},
   "outputs": [],
   "source": [
    "#Year\n",
    "Year_col = raw_df['year']\n",
    "less_than_0 = Year_col[Year_col < 0]\n",
    "is_not_2022 = Year_col[Year_col != 2022]\n",
    "print('Less than zero: ')\n",
    "print(less_than_0)\n",
    "print('Value must be 2022: ')\n",
    "print(is_not_2022)"
   ]
  },
  {
   "cell_type": "markdown",
   "metadata": {},
   "source": [
    "**Nhận xét:** Như vậy không có giá trị nào khác 2022 và bé hơn 0.\n",
    "**Kết luận:** Vì không có giá trị nào khác 2022 cho nên việc phân tích cột này sẽ không có ý nghĩa. Do đó ta sẽ bỏ cột này luôn."
   ]
  },
  {
   "cell_type": "code",
   "execution_count": null,
   "metadata": {},
   "outputs": [],
   "source": [
    "raw_df = raw_df.drop(columns='year')\n",
    "raw_df.head()"
   ]
  },
  {
   "cell_type": "markdown",
   "metadata": {},
   "source": [
    "**2.3 Kiểm tra các cột điểm - score: Score phải >= 0 và <= 10 hoặc bằng NaN.**"
   ]
  },
  {
   "cell_type": "code",
   "execution_count": null,
   "metadata": {},
   "outputs": [],
   "source": [
    "score_df = raw_df.select_dtypes(include='float64')\n",
    "score_df.head()\n",
    "for col in score_df.columns:\n",
    "    less_than_0 = score_df[score_df[col] < 0]\n",
    "    greater_than_10 = score_df[score_df[col] > 10]\n",
    "    \n",
    "    if len(less_than_0.index.tolist()):\n",
    "        print(f'Column: {col}')\n",
    "        print('Less than zero (indices): ')\n",
    "        print(less_than_0.index.tolist())\n",
    "    \n",
    "    if len(greater_than_10.index.tolist()):\n",
    "        print(f'Column: {col}')\n",
    "        print('Greater than ten (indices): ')\n",
    "        print(greater_than_10.index.tolist())"
   ]
  },
  {
   "cell_type": "markdown",
   "metadata": {},
   "source": [
    "**Nhận xét:** Không có output được in ra, tức nghĩa là các cột đều đã thõa mãn điều kiện."
   ]
  },
  {
   "cell_type": "markdown",
   "metadata": {},
   "source": [
    "**2.4 Kiểm tra cột có kiểu dữ liệu không phải dữ liệu kiểu số**"
   ]
  },
  {
   "cell_type": "markdown",
   "metadata": {},
   "source": [
    "Ở đây ta chỉ cần tìm ra các trường DUY NHẤT."
   ]
  },
  {
   "cell_type": "code",
   "execution_count": null,
   "metadata": {},
   "outputs": [],
   "source": [
    "non_numerical = raw_df['foreign_language_type']\n",
    "unique_values = non_numerical.unique()\n",
    "unique_values"
   ]
  },
  {
   "cell_type": "markdown",
   "metadata": {},
   "source": [
    "**3. Kiểm tra các thiếu khuyết trong dữ liệu:**"
   ]
  },
  {
   "cell_type": "code",
   "execution_count": null,
   "metadata": {},
   "outputs": [],
   "source": [
    "def calcMissingRatio(df):\n",
    "    missing_ratio = {}\n",
    "    for key, values in df.items():\n",
    "        missing_count = values.isna().sum()\n",
    "        total_count = len(values)\n",
    "        missing_ratio[key] = round(( missing_count / total_count )* 100, 1) if total_count != 0 else None\n",
    "    return missing_ratio"
   ]
  },
  {
   "cell_type": "code",
   "execution_count": null,
   "metadata": {},
   "outputs": [],
   "source": [
    "missing_ratio = calcMissingRatio(raw_df)\n",
    "for key, values in missing_ratio.items():\n",
    "    print(f'Column: {key} - Missing Ratio: {values}')"
   ]
  },
  {
   "cell_type": "markdown",
   "metadata": {},
   "source": [
    "**Nhận xét:**\n",
    "1. Ta thấy các cột như: `russian_score`, `german_score`, `french_score`, `korean_score`, `japanese_score`, `chinese_score` đều có tỉ lệ thiếu khuyết lên đến hơn 99.9%. Do đó sẽ không có quá nhiều ý nghĩa phân tích. \n",
    "2. Các cột như `id` và `year` có tỉ lệ thiếu khuyết là 0.0%.\n",
    "\n",
    "**Kết luận:** \n",
    "1. Ta sẽ chỉ xét các môn thi chính thức như toán - lý - hóa - sinh - văn - anh văn - sử - địa - GDCD. \n",
    "2. Do đó ta sẽ tiến hành loại bỏ các cột không có ý nghĩa phân tích: `russian_score`, `german_score`, `french_score`, `korean_score`, `japanese_score`, `chinese_score`, `foreign_language_score`.\n",
    "3. Vì do chúng ta đã xóa các cột ngoại ngữ khác vì tỉ lệ thiếu khuyết cao thì ta sẽ xóa luôn cột định nghĩa ký hiệu cho các loại ngoại ngữ : `foreign_language_type`"
   ]
  },
  {
   "cell_type": "code",
   "execution_count": null,
   "metadata": {},
   "outputs": [],
   "source": [
    "raw_df = raw_df.drop(columns = ['russian_score', 'german_score', 'french_score', 'korean_score', 'japanese_score', 'chinese_score', 'foreign_language_score', 'foreign_language_type'])\n",
    "raw_df.head()"
   ]
  },
  {
   "cell_type": "markdown",
   "metadata": {},
   "source": [
    "**4. Có hai khối thi là Khoa học tự nhiên và Khoa học xã hội, khi ta thi KHTN ( lý - hóa - sinh ) thì sẽ không thi các môn KHXH ( sử - địa - GDCD ).**"
   ]
  },
  {
   "cell_type": "markdown",
   "metadata": {},
   "source": [
    "Chính vì vậy mà ta sẽ không tiến hành điền khuyết NaN vào trong các trường dữ liệu này. Mà ta sẽ phân tích dựa theo hai tổ hợp môn này."
   ]
  },
  {
   "cell_type": "markdown",
   "metadata": {},
   "source": [
    "**5. Sắp xếp các kết quả hàng theo id.**"
   ]
  },
  {
   "cell_type": "code",
   "execution_count": null,
   "metadata": {},
   "outputs": [],
   "source": [
    "raw_df.sort_values(by='id', ascending=True, inplace=True)\n",
    "raw_df.head()"
   ]
  },
  {
   "cell_type": "markdown",
   "metadata": {},
   "source": [
    "**6. Tiến hành ghi tập dữ liệu sau khi xử lý vào file csv.**"
   ]
  },
  {
   "cell_type": "code",
   "execution_count": null,
   "metadata": {},
   "outputs": [],
   "source": [
    "processed_dataset_path = dataset_source_path / 'THPTQG_2022_processed.csv'\n",
    "raw_df.to_csv(processed_dataset_path, index=False)"
   ]
  }
 ],
 "metadata": {
  "kernelspec": {
   "display_name": "Python 3",
   "language": "python",
   "name": "python3"
  },
  "language_info": {
   "codemirror_mode": {
    "name": "ipython",
    "version": 3
   },
   "file_extension": ".py",
   "mimetype": "text/x-python",
   "name": "python",
   "nbconvert_exporter": "python",
   "pygments_lexer": "ipython3",
   "version": "3.12.5"
  }
 },
 "nbformat": 4,
 "nbformat_minor": 2
}
