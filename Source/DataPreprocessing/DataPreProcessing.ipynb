{
 "cells": [
  {
   "cell_type": "markdown",
   "metadata": {},
   "source": [
    "## Data Visualization Course | VNU-HCM University of Science.\n",
    "### Final Project\n",
    "#### **STEP 02 - DATA Preprocessing**"
   ]
  },
  {
   "cell_type": "code",
   "execution_count": 1,
   "metadata": {},
   "outputs": [],
   "source": [
    "import sys\n",
    "import os\n",
    "\n",
    "sys.path.append(os.path.abspath(os.path.join(os.getcwd(), '..')))"
   ]
  },
  {
   "cell_type": "code",
   "execution_count": 2,
   "metadata": {},
   "outputs": [],
   "source": [
    "from Libraries import *\n",
    "from Shared_Functions import *"
   ]
  },
  {
   "cell_type": "code",
   "execution_count": 3,
   "metadata": {},
   "outputs": [
    {
     "data": {
      "text/html": [
       "<div>\n",
       "<style scoped>\n",
       "    .dataframe tbody tr th:only-of-type {\n",
       "        vertical-align: middle;\n",
       "    }\n",
       "\n",
       "    .dataframe tbody tr th {\n",
       "        vertical-align: top;\n",
       "    }\n",
       "\n",
       "    .dataframe thead th {\n",
       "        text-align: right;\n",
       "    }\n",
       "</style>\n",
       "<table border=\"1\" class=\"dataframe\">\n",
       "  <thead>\n",
       "    <tr style=\"text-align: right;\">\n",
       "      <th></th>\n",
       "      <th>id</th>\n",
       "      <th>year</th>\n",
       "      <th>mathematics_score</th>\n",
       "      <th>literature_score</th>\n",
       "      <th>physics_score</th>\n",
       "      <th>chemistry_score</th>\n",
       "      <th>biology_score</th>\n",
       "      <th>foreign_language_score</th>\n",
       "      <th>foreign_language_type</th>\n",
       "      <th>english_score</th>\n",
       "      <th>history_score</th>\n",
       "      <th>geography_score</th>\n",
       "      <th>civic_education_score</th>\n",
       "      <th>chinese_score</th>\n",
       "      <th>japanese_score</th>\n",
       "      <th>korean_score</th>\n",
       "      <th>french_score</th>\n",
       "      <th>german_score</th>\n",
       "      <th>russian_score</th>\n",
       "    </tr>\n",
       "  </thead>\n",
       "  <tbody>\n",
       "    <tr>\n",
       "      <th>0</th>\n",
       "      <td>1000046</td>\n",
       "      <td>2022</td>\n",
       "      <td>8.0</td>\n",
       "      <td>6.25</td>\n",
       "      <td>7.25</td>\n",
       "      <td>5.5</td>\n",
       "      <td>4.75</td>\n",
       "      <td>4.6</td>\n",
       "      <td>N1</td>\n",
       "      <td>4.6</td>\n",
       "      <td>NaN</td>\n",
       "      <td>NaN</td>\n",
       "      <td>NaN</td>\n",
       "      <td>NaN</td>\n",
       "      <td>NaN</td>\n",
       "      <td>NaN</td>\n",
       "      <td>NaN</td>\n",
       "      <td>NaN</td>\n",
       "      <td>NaN</td>\n",
       "    </tr>\n",
       "    <tr>\n",
       "      <th>1</th>\n",
       "      <td>1000031</td>\n",
       "      <td>2022</td>\n",
       "      <td>7.0</td>\n",
       "      <td>7.75</td>\n",
       "      <td>NaN</td>\n",
       "      <td>NaN</td>\n",
       "      <td>NaN</td>\n",
       "      <td>8.8</td>\n",
       "      <td>N1</td>\n",
       "      <td>8.8</td>\n",
       "      <td>6.25</td>\n",
       "      <td>5.0</td>\n",
       "      <td>9.00</td>\n",
       "      <td>NaN</td>\n",
       "      <td>NaN</td>\n",
       "      <td>NaN</td>\n",
       "      <td>NaN</td>\n",
       "      <td>NaN</td>\n",
       "      <td>NaN</td>\n",
       "    </tr>\n",
       "    <tr>\n",
       "      <th>2</th>\n",
       "      <td>1000012</td>\n",
       "      <td>2022</td>\n",
       "      <td>6.4</td>\n",
       "      <td>7.50</td>\n",
       "      <td>NaN</td>\n",
       "      <td>NaN</td>\n",
       "      <td>NaN</td>\n",
       "      <td>NaN</td>\n",
       "      <td>NaN</td>\n",
       "      <td>NaN</td>\n",
       "      <td>4.75</td>\n",
       "      <td>5.0</td>\n",
       "      <td>8.00</td>\n",
       "      <td>NaN</td>\n",
       "      <td>NaN</td>\n",
       "      <td>NaN</td>\n",
       "      <td>NaN</td>\n",
       "      <td>NaN</td>\n",
       "      <td>NaN</td>\n",
       "    </tr>\n",
       "    <tr>\n",
       "      <th>3</th>\n",
       "      <td>1000087</td>\n",
       "      <td>2022</td>\n",
       "      <td>8.4</td>\n",
       "      <td>8.00</td>\n",
       "      <td>NaN</td>\n",
       "      <td>NaN</td>\n",
       "      <td>NaN</td>\n",
       "      <td>9.4</td>\n",
       "      <td>N1</td>\n",
       "      <td>9.4</td>\n",
       "      <td>6.75</td>\n",
       "      <td>6.5</td>\n",
       "      <td>8.25</td>\n",
       "      <td>NaN</td>\n",
       "      <td>NaN</td>\n",
       "      <td>NaN</td>\n",
       "      <td>NaN</td>\n",
       "      <td>NaN</td>\n",
       "      <td>NaN</td>\n",
       "    </tr>\n",
       "    <tr>\n",
       "      <th>4</th>\n",
       "      <td>1000071</td>\n",
       "      <td>2022</td>\n",
       "      <td>7.6</td>\n",
       "      <td>8.25</td>\n",
       "      <td>6.25</td>\n",
       "      <td>5.0</td>\n",
       "      <td>3.25</td>\n",
       "      <td>6.6</td>\n",
       "      <td>N1</td>\n",
       "      <td>6.6</td>\n",
       "      <td>NaN</td>\n",
       "      <td>NaN</td>\n",
       "      <td>NaN</td>\n",
       "      <td>NaN</td>\n",
       "      <td>NaN</td>\n",
       "      <td>NaN</td>\n",
       "      <td>NaN</td>\n",
       "      <td>NaN</td>\n",
       "      <td>NaN</td>\n",
       "    </tr>\n",
       "  </tbody>\n",
       "</table>\n",
       "</div>"
      ],
      "text/plain": [
       "        id  year  mathematics_score  literature_score  physics_score  \\\n",
       "0  1000046  2022                8.0              6.25           7.25   \n",
       "1  1000031  2022                7.0              7.75            NaN   \n",
       "2  1000012  2022                6.4              7.50            NaN   \n",
       "3  1000087  2022                8.4              8.00            NaN   \n",
       "4  1000071  2022                7.6              8.25           6.25   \n",
       "\n",
       "   chemistry_score  biology_score  foreign_language_score  \\\n",
       "0              5.5           4.75                     4.6   \n",
       "1              NaN            NaN                     8.8   \n",
       "2              NaN            NaN                     NaN   \n",
       "3              NaN            NaN                     9.4   \n",
       "4              5.0           3.25                     6.6   \n",
       "\n",
       "  foreign_language_type  english_score  history_score  geography_score  \\\n",
       "0                    N1            4.6            NaN              NaN   \n",
       "1                    N1            8.8           6.25              5.0   \n",
       "2                   NaN            NaN           4.75              5.0   \n",
       "3                    N1            9.4           6.75              6.5   \n",
       "4                    N1            6.6            NaN              NaN   \n",
       "\n",
       "   civic_education_score  chinese_score  japanese_score  korean_score  \\\n",
       "0                    NaN            NaN             NaN           NaN   \n",
       "1                   9.00            NaN             NaN           NaN   \n",
       "2                   8.00            NaN             NaN           NaN   \n",
       "3                   8.25            NaN             NaN           NaN   \n",
       "4                    NaN            NaN             NaN           NaN   \n",
       "\n",
       "   french_score  german_score  russian_score  \n",
       "0           NaN           NaN            NaN  \n",
       "1           NaN           NaN            NaN  \n",
       "2           NaN           NaN            NaN  \n",
       "3           NaN           NaN            NaN  \n",
       "4           NaN           NaN            NaN  "
      ]
     },
     "execution_count": 3,
     "metadata": {},
     "output_type": "execute_result"
    }
   ],
   "source": [
    "dataset_source_path = getGranDir() / 'Dataset'\n",
    "pre_process_dataset_path = dataset_source_path / '2021.csv'\n",
    "raw_df = pd.read_csv(pre_process_dataset_path, index_col=0)\n",
    "raw_df.head()"
   ]
  },
  {
   "cell_type": "markdown",
   "metadata": {},
   "source": [
    "**1. Kiểm tra kiểu dữ liệu và số lượng hàng, cột**"
   ]
  },
  {
   "cell_type": "code",
   "execution_count": 4,
   "metadata": {},
   "outputs": [
    {
     "name": "stdout",
     "output_type": "stream",
     "text": [
      "id                          int64\n",
      "year                        int64\n",
      "mathematics_score         float64\n",
      "literature_score          float64\n",
      "physics_score             float64\n",
      "chemistry_score           float64\n",
      "biology_score             float64\n",
      "foreign_language_score    float64\n",
      "foreign_language_type      object\n",
      "english_score             float64\n",
      "history_score             float64\n",
      "geography_score           float64\n",
      "civic_education_score     float64\n",
      "chinese_score             float64\n",
      "japanese_score            float64\n",
      "korean_score              float64\n",
      "french_score              float64\n",
      "german_score              float64\n",
      "russian_score             float64\n",
      "dtype: object\n"
     ]
    },
    {
     "data": {
      "text/plain": [
       "(995381, 19)"
      ]
     },
     "execution_count": 4,
     "metadata": {},
     "output_type": "execute_result"
    }
   ],
   "source": [
    "print(raw_df.dtypes)\n",
    "raw_df.shape"
   ]
  },
  {
   "cell_type": "markdown",
   "metadata": {},
   "source": [
    "**Nhận xét:** Các cột đã có kiểu dữ liệu phù hợp với ý nghĩa."
   ]
  },
  {
   "cell_type": "markdown",
   "metadata": {},
   "source": [
    "**2. Kiểm tra điều kiện tồn tại của các cột.**"
   ]
  },
  {
   "cell_type": "markdown",
   "metadata": {},
   "source": [
    "**2.1 Kiểm tra cột ID: các ID này phải là DUY NHẤT, và phải lớn hơn 0.**"
   ]
  },
  {
   "cell_type": "code",
   "execution_count": 5,
   "metadata": {},
   "outputs": [
    {
     "name": "stdout",
     "output_type": "stream",
     "text": [
      "Less than zero: \n",
      "Series([], Name: id, dtype: int64)\n",
      "Values is not unique: \n",
      "Series([], Name: id, dtype: int64)\n"
     ]
    }
   ],
   "source": [
    "# ID\n",
    "ID_col = raw_df['id']\n",
    "less_than_0 = ID_col[ID_col < 0]\n",
    "duplicate_values = ID_col[ID_col.duplicated(keep=False)]\n",
    "print('Less than zero: ')\n",
    "print(less_than_0)\n",
    "print('Values is not unique: ')\n",
    "print(duplicate_values)"
   ]
  },
  {
   "cell_type": "markdown",
   "metadata": {},
   "source": [
    "**Nhận xét:** Như vậy không có giá trị nào bé hơn không và không có giá trị nào bị trùng lập.\n",
    "\n",
    "**Kết luận:** Vì không có trùng lặp cho nên không có hàng nào trong dataset sẽ bị trùng lập."
   ]
  },
  {
   "cell_type": "markdown",
   "metadata": {},
   "source": [
    "**2.2 Kiểm tra cột Year: Year phải lớn hơn 0 và phải bằng 2022.**"
   ]
  },
  {
   "cell_type": "code",
   "execution_count": 6,
   "metadata": {},
   "outputs": [
    {
     "name": "stdout",
     "output_type": "stream",
     "text": [
      "Less than zero: \n",
      "Series([], Name: year, dtype: int64)\n",
      "Value must be 2022: \n",
      "Series([], Name: year, dtype: int64)\n"
     ]
    }
   ],
   "source": [
    "#Year\n",
    "Year_col = raw_df['year']\n",
    "less_than_0 = Year_col[Year_col < 0]\n",
    "is_not_2022 = Year_col[Year_col != 2022]\n",
    "print('Less than zero: ')\n",
    "print(less_than_0)\n",
    "print('Value must be 2022: ')\n",
    "print(is_not_2022)"
   ]
  },
  {
   "cell_type": "markdown",
   "metadata": {},
   "source": [
    "**Nhận xét:** Như vậy không có giá trị nào khác 2022 và bé hơn 0.\n",
    "**Kết luận:** Vì không có giá trị nào khác 2022 cho nên việc phân tích cột này sẽ không có ý nghĩa. Do đó ta sẽ bỏ cột này luôn."
   ]
  },
  {
   "cell_type": "code",
   "execution_count": 7,
   "metadata": {},
   "outputs": [
    {
     "data": {
      "text/html": [
       "<div>\n",
       "<style scoped>\n",
       "    .dataframe tbody tr th:only-of-type {\n",
       "        vertical-align: middle;\n",
       "    }\n",
       "\n",
       "    .dataframe tbody tr th {\n",
       "        vertical-align: top;\n",
       "    }\n",
       "\n",
       "    .dataframe thead th {\n",
       "        text-align: right;\n",
       "    }\n",
       "</style>\n",
       "<table border=\"1\" class=\"dataframe\">\n",
       "  <thead>\n",
       "    <tr style=\"text-align: right;\">\n",
       "      <th></th>\n",
       "      <th>id</th>\n",
       "      <th>mathematics_score</th>\n",
       "      <th>literature_score</th>\n",
       "      <th>physics_score</th>\n",
       "      <th>chemistry_score</th>\n",
       "      <th>biology_score</th>\n",
       "      <th>foreign_language_score</th>\n",
       "      <th>foreign_language_type</th>\n",
       "      <th>english_score</th>\n",
       "      <th>history_score</th>\n",
       "      <th>geography_score</th>\n",
       "      <th>civic_education_score</th>\n",
       "      <th>chinese_score</th>\n",
       "      <th>japanese_score</th>\n",
       "      <th>korean_score</th>\n",
       "      <th>french_score</th>\n",
       "      <th>german_score</th>\n",
       "      <th>russian_score</th>\n",
       "    </tr>\n",
       "  </thead>\n",
       "  <tbody>\n",
       "    <tr>\n",
       "      <th>0</th>\n",
       "      <td>1000046</td>\n",
       "      <td>8.0</td>\n",
       "      <td>6.25</td>\n",
       "      <td>7.25</td>\n",
       "      <td>5.5</td>\n",
       "      <td>4.75</td>\n",
       "      <td>4.6</td>\n",
       "      <td>N1</td>\n",
       "      <td>4.6</td>\n",
       "      <td>NaN</td>\n",
       "      <td>NaN</td>\n",
       "      <td>NaN</td>\n",
       "      <td>NaN</td>\n",
       "      <td>NaN</td>\n",
       "      <td>NaN</td>\n",
       "      <td>NaN</td>\n",
       "      <td>NaN</td>\n",
       "      <td>NaN</td>\n",
       "    </tr>\n",
       "    <tr>\n",
       "      <th>1</th>\n",
       "      <td>1000031</td>\n",
       "      <td>7.0</td>\n",
       "      <td>7.75</td>\n",
       "      <td>NaN</td>\n",
       "      <td>NaN</td>\n",
       "      <td>NaN</td>\n",
       "      <td>8.8</td>\n",
       "      <td>N1</td>\n",
       "      <td>8.8</td>\n",
       "      <td>6.25</td>\n",
       "      <td>5.0</td>\n",
       "      <td>9.00</td>\n",
       "      <td>NaN</td>\n",
       "      <td>NaN</td>\n",
       "      <td>NaN</td>\n",
       "      <td>NaN</td>\n",
       "      <td>NaN</td>\n",
       "      <td>NaN</td>\n",
       "    </tr>\n",
       "    <tr>\n",
       "      <th>2</th>\n",
       "      <td>1000012</td>\n",
       "      <td>6.4</td>\n",
       "      <td>7.50</td>\n",
       "      <td>NaN</td>\n",
       "      <td>NaN</td>\n",
       "      <td>NaN</td>\n",
       "      <td>NaN</td>\n",
       "      <td>NaN</td>\n",
       "      <td>NaN</td>\n",
       "      <td>4.75</td>\n",
       "      <td>5.0</td>\n",
       "      <td>8.00</td>\n",
       "      <td>NaN</td>\n",
       "      <td>NaN</td>\n",
       "      <td>NaN</td>\n",
       "      <td>NaN</td>\n",
       "      <td>NaN</td>\n",
       "      <td>NaN</td>\n",
       "    </tr>\n",
       "    <tr>\n",
       "      <th>3</th>\n",
       "      <td>1000087</td>\n",
       "      <td>8.4</td>\n",
       "      <td>8.00</td>\n",
       "      <td>NaN</td>\n",
       "      <td>NaN</td>\n",
       "      <td>NaN</td>\n",
       "      <td>9.4</td>\n",
       "      <td>N1</td>\n",
       "      <td>9.4</td>\n",
       "      <td>6.75</td>\n",
       "      <td>6.5</td>\n",
       "      <td>8.25</td>\n",
       "      <td>NaN</td>\n",
       "      <td>NaN</td>\n",
       "      <td>NaN</td>\n",
       "      <td>NaN</td>\n",
       "      <td>NaN</td>\n",
       "      <td>NaN</td>\n",
       "    </tr>\n",
       "    <tr>\n",
       "      <th>4</th>\n",
       "      <td>1000071</td>\n",
       "      <td>7.6</td>\n",
       "      <td>8.25</td>\n",
       "      <td>6.25</td>\n",
       "      <td>5.0</td>\n",
       "      <td>3.25</td>\n",
       "      <td>6.6</td>\n",
       "      <td>N1</td>\n",
       "      <td>6.6</td>\n",
       "      <td>NaN</td>\n",
       "      <td>NaN</td>\n",
       "      <td>NaN</td>\n",
       "      <td>NaN</td>\n",
       "      <td>NaN</td>\n",
       "      <td>NaN</td>\n",
       "      <td>NaN</td>\n",
       "      <td>NaN</td>\n",
       "      <td>NaN</td>\n",
       "    </tr>\n",
       "  </tbody>\n",
       "</table>\n",
       "</div>"
      ],
      "text/plain": [
       "        id  mathematics_score  literature_score  physics_score  \\\n",
       "0  1000046                8.0              6.25           7.25   \n",
       "1  1000031                7.0              7.75            NaN   \n",
       "2  1000012                6.4              7.50            NaN   \n",
       "3  1000087                8.4              8.00            NaN   \n",
       "4  1000071                7.6              8.25           6.25   \n",
       "\n",
       "   chemistry_score  biology_score  foreign_language_score  \\\n",
       "0              5.5           4.75                     4.6   \n",
       "1              NaN            NaN                     8.8   \n",
       "2              NaN            NaN                     NaN   \n",
       "3              NaN            NaN                     9.4   \n",
       "4              5.0           3.25                     6.6   \n",
       "\n",
       "  foreign_language_type  english_score  history_score  geography_score  \\\n",
       "0                    N1            4.6            NaN              NaN   \n",
       "1                    N1            8.8           6.25              5.0   \n",
       "2                   NaN            NaN           4.75              5.0   \n",
       "3                    N1            9.4           6.75              6.5   \n",
       "4                    N1            6.6            NaN              NaN   \n",
       "\n",
       "   civic_education_score  chinese_score  japanese_score  korean_score  \\\n",
       "0                    NaN            NaN             NaN           NaN   \n",
       "1                   9.00            NaN             NaN           NaN   \n",
       "2                   8.00            NaN             NaN           NaN   \n",
       "3                   8.25            NaN             NaN           NaN   \n",
       "4                    NaN            NaN             NaN           NaN   \n",
       "\n",
       "   french_score  german_score  russian_score  \n",
       "0           NaN           NaN            NaN  \n",
       "1           NaN           NaN            NaN  \n",
       "2           NaN           NaN            NaN  \n",
       "3           NaN           NaN            NaN  \n",
       "4           NaN           NaN            NaN  "
      ]
     },
     "execution_count": 7,
     "metadata": {},
     "output_type": "execute_result"
    }
   ],
   "source": [
    "raw_df = raw_df.drop(columns='year')\n",
    "raw_df.head()"
   ]
  },
  {
   "cell_type": "markdown",
   "metadata": {},
   "source": [
    "**2.3 Kiểm tra các cột điểm - score: Score phải >= 0 và <= 10 hoặc bằng NaN.**"
   ]
  },
  {
   "cell_type": "code",
   "execution_count": 8,
   "metadata": {},
   "outputs": [],
   "source": [
    "score_df = raw_df.select_dtypes(include='float64')\n",
    "score_df.head()\n",
    "for col in score_df.columns:\n",
    "    less_than_0 = score_df[score_df[col] < 0]\n",
    "    greater_than_10 = score_df[score_df[col] > 10]\n",
    "    \n",
    "    if len(less_than_0.index.tolist()):\n",
    "        print(f'Column: {col}')\n",
    "        print('Less than zero (indices): ')\n",
    "        print(less_than_0.index.tolist())\n",
    "    \n",
    "    if len(greater_than_10.index.tolist()):\n",
    "        print(f'Column: {col}')\n",
    "        print('Greater than ten (indices): ')\n",
    "        print(greater_than_10.index.tolist())"
   ]
  },
  {
   "cell_type": "markdown",
   "metadata": {},
   "source": [
    "**Nhận xét:** Không có output được in ra, tức nghĩa là các cột đều đã thõa mãn điều kiện."
   ]
  },
  {
   "cell_type": "markdown",
   "metadata": {},
   "source": [
    "**2.4 Kiểm tra cột có kiểu dữ liệu không phải dữ liệu kiểu số**"
   ]
  },
  {
   "cell_type": "markdown",
   "metadata": {},
   "source": [
    "Ở đây ta chỉ cần tìm ra các trường DUY NHẤT."
   ]
  },
  {
   "cell_type": "code",
   "execution_count": 9,
   "metadata": {},
   "outputs": [
    {
     "data": {
      "text/plain": [
       "array(['N1', nan, 'N4', 'N6', 'N7', 'N3', 'N5', 'N2'], dtype=object)"
      ]
     },
     "execution_count": 9,
     "metadata": {},
     "output_type": "execute_result"
    }
   ],
   "source": [
    "non_numerical = raw_df['foreign_language_type']\n",
    "unique_values = non_numerical.unique()\n",
    "unique_values"
   ]
  },
  {
   "cell_type": "markdown",
   "metadata": {},
   "source": [
    "**3. Kiểm tra các thiếu khuyết trong dữ liệu:**"
   ]
  },
  {
   "cell_type": "code",
   "execution_count": 10,
   "metadata": {},
   "outputs": [],
   "source": [
    "def calcMissingRatio(df):\n",
    "    missing_ratio = {}\n",
    "    for key, values in df.items():\n",
    "        missing_count = values.isna().sum()\n",
    "        total_count = len(values)\n",
    "        missing_ratio[key] = round(( missing_count / total_count )* 100, 1) if total_count != 0 else None\n",
    "    return missing_ratio"
   ]
  },
  {
   "cell_type": "code",
   "execution_count": 11,
   "metadata": {},
   "outputs": [
    {
     "name": "stdout",
     "output_type": "stream",
     "text": [
      "Column: id - Missing Ratio: 0.0\n",
      "Column: mathematics_score - Missing Ratio: 1.3\n",
      "Column: literature_score - Missing Ratio: 1.4\n",
      "Column: physics_score - Missing Ratio: 67.3\n",
      "Column: chemistry_score - Missing Ratio: 67.1\n",
      "Column: biology_score - Missing Ratio: 67.6\n",
      "Column: foreign_language_score - Missing Ratio: 12.5\n",
      "Column: foreign_language_type - Missing Ratio: 12.5\n",
      "Column: english_score - Missing Ratio: 13.0\n",
      "Column: history_score - Missing Ratio: 33.7\n",
      "Column: geography_score - Missing Ratio: 34.0\n",
      "Column: civic_education_score - Missing Ratio: 44.3\n",
      "Column: chinese_score - Missing Ratio: 99.8\n",
      "Column: japanese_score - Missing Ratio: 99.9\n",
      "Column: korean_score - Missing Ratio: 100.0\n",
      "Column: french_score - Missing Ratio: 99.9\n",
      "Column: german_score - Missing Ratio: 100.0\n",
      "Column: russian_score - Missing Ratio: 100.0\n"
     ]
    }
   ],
   "source": [
    "missing_ratio = calcMissingRatio(raw_df)\n",
    "for key, values in missing_ratio.items():\n",
    "    print(f'Column: {key} - Missing Ratio: {values}')"
   ]
  },
  {
   "cell_type": "markdown",
   "metadata": {},
   "source": [
    "**Nhận xét:**\n",
    "1. Ta thấy các cột như: `russian_score`, `german_score`, `french_score`, `korean_score`, `japanese_score`, `chinese_score` đều có tỉ lệ thiếu khuyết lên đến hơn 99.9%. Do đó sẽ không có quá nhiều ý nghĩa phân tích. \n",
    "2. Các cột như `id` và `year` có tỉ lệ thiếu khuyết là 0.0%.\n",
    "\n",
    "**Kết luận:** \n",
    "1. Ta sẽ chỉ xét các môn thi chính thức như toán - lý - hóa - sinh - văn - anh văn - sử - địa - GDCD. \n",
    "2. Do đó ta sẽ tiến hành loại bỏ các cột không có ý nghĩa phân tích: `russian_score`, `german_score`, `french_score`, `korean_score`, `japanese_score`, `chinese_score`, `foreign_language_score`.\n",
    "3. Vì do chúng ta đã xóa các cột ngoại ngữ khác vì tỉ lệ thiếu khuyết cao thì ta sẽ xóa luôn cột định nghĩa ký hiệu cho các loại ngoại ngữ : `foreign_language_type`"
   ]
  },
  {
   "cell_type": "code",
   "execution_count": 12,
   "metadata": {},
   "outputs": [
    {
     "data": {
      "text/html": [
       "<div>\n",
       "<style scoped>\n",
       "    .dataframe tbody tr th:only-of-type {\n",
       "        vertical-align: middle;\n",
       "    }\n",
       "\n",
       "    .dataframe tbody tr th {\n",
       "        vertical-align: top;\n",
       "    }\n",
       "\n",
       "    .dataframe thead th {\n",
       "        text-align: right;\n",
       "    }\n",
       "</style>\n",
       "<table border=\"1\" class=\"dataframe\">\n",
       "  <thead>\n",
       "    <tr style=\"text-align: right;\">\n",
       "      <th></th>\n",
       "      <th>id</th>\n",
       "      <th>mathematics_score</th>\n",
       "      <th>literature_score</th>\n",
       "      <th>physics_score</th>\n",
       "      <th>chemistry_score</th>\n",
       "      <th>biology_score</th>\n",
       "      <th>english_score</th>\n",
       "      <th>history_score</th>\n",
       "      <th>geography_score</th>\n",
       "      <th>civic_education_score</th>\n",
       "    </tr>\n",
       "  </thead>\n",
       "  <tbody>\n",
       "    <tr>\n",
       "      <th>0</th>\n",
       "      <td>1000046</td>\n",
       "      <td>8.0</td>\n",
       "      <td>6.25</td>\n",
       "      <td>7.25</td>\n",
       "      <td>5.5</td>\n",
       "      <td>4.75</td>\n",
       "      <td>4.6</td>\n",
       "      <td>NaN</td>\n",
       "      <td>NaN</td>\n",
       "      <td>NaN</td>\n",
       "    </tr>\n",
       "    <tr>\n",
       "      <th>1</th>\n",
       "      <td>1000031</td>\n",
       "      <td>7.0</td>\n",
       "      <td>7.75</td>\n",
       "      <td>NaN</td>\n",
       "      <td>NaN</td>\n",
       "      <td>NaN</td>\n",
       "      <td>8.8</td>\n",
       "      <td>6.25</td>\n",
       "      <td>5.0</td>\n",
       "      <td>9.00</td>\n",
       "    </tr>\n",
       "    <tr>\n",
       "      <th>2</th>\n",
       "      <td>1000012</td>\n",
       "      <td>6.4</td>\n",
       "      <td>7.50</td>\n",
       "      <td>NaN</td>\n",
       "      <td>NaN</td>\n",
       "      <td>NaN</td>\n",
       "      <td>NaN</td>\n",
       "      <td>4.75</td>\n",
       "      <td>5.0</td>\n",
       "      <td>8.00</td>\n",
       "    </tr>\n",
       "    <tr>\n",
       "      <th>3</th>\n",
       "      <td>1000087</td>\n",
       "      <td>8.4</td>\n",
       "      <td>8.00</td>\n",
       "      <td>NaN</td>\n",
       "      <td>NaN</td>\n",
       "      <td>NaN</td>\n",
       "      <td>9.4</td>\n",
       "      <td>6.75</td>\n",
       "      <td>6.5</td>\n",
       "      <td>8.25</td>\n",
       "    </tr>\n",
       "    <tr>\n",
       "      <th>4</th>\n",
       "      <td>1000071</td>\n",
       "      <td>7.6</td>\n",
       "      <td>8.25</td>\n",
       "      <td>6.25</td>\n",
       "      <td>5.0</td>\n",
       "      <td>3.25</td>\n",
       "      <td>6.6</td>\n",
       "      <td>NaN</td>\n",
       "      <td>NaN</td>\n",
       "      <td>NaN</td>\n",
       "    </tr>\n",
       "  </tbody>\n",
       "</table>\n",
       "</div>"
      ],
      "text/plain": [
       "        id  mathematics_score  literature_score  physics_score  \\\n",
       "0  1000046                8.0              6.25           7.25   \n",
       "1  1000031                7.0              7.75            NaN   \n",
       "2  1000012                6.4              7.50            NaN   \n",
       "3  1000087                8.4              8.00            NaN   \n",
       "4  1000071                7.6              8.25           6.25   \n",
       "\n",
       "   chemistry_score  biology_score  english_score  history_score  \\\n",
       "0              5.5           4.75            4.6            NaN   \n",
       "1              NaN            NaN            8.8           6.25   \n",
       "2              NaN            NaN            NaN           4.75   \n",
       "3              NaN            NaN            9.4           6.75   \n",
       "4              5.0           3.25            6.6            NaN   \n",
       "\n",
       "   geography_score  civic_education_score  \n",
       "0              NaN                    NaN  \n",
       "1              5.0                   9.00  \n",
       "2              5.0                   8.00  \n",
       "3              6.5                   8.25  \n",
       "4              NaN                    NaN  "
      ]
     },
     "execution_count": 12,
     "metadata": {},
     "output_type": "execute_result"
    }
   ],
   "source": [
    "raw_df = raw_df.drop(columns = ['russian_score', 'german_score', 'french_score', 'korean_score', 'japanese_score', 'chinese_score', 'foreign_language_score', 'foreign_language_type'])\n",
    "raw_df.head()"
   ]
  },
  {
   "cell_type": "markdown",
   "metadata": {},
   "source": [
    "**4. Có hai khối thi là Khoa học tự nhiên và Khoa học xã hội, khi ta thi KHTN ( lý - hóa - sinh ) thì sẽ không thi các môn KHXH ( sử - địa - GDCD ).**"
   ]
  },
  {
   "cell_type": "markdown",
   "metadata": {},
   "source": [
    "Chính vì vậy mà ta sẽ không tiến hành điền khuyết NaN vào trong các trường dữ liệu này. Mà ta sẽ phân tích dựa theo hai tổ hợp môn này."
   ]
  },
  {
   "cell_type": "markdown",
   "metadata": {},
   "source": [
    "**5. Sắp xếp các kết quả hàng theo id.**"
   ]
  },
  {
   "cell_type": "code",
   "execution_count": 16,
   "metadata": {},
   "outputs": [
    {
     "data": {
      "text/html": [
       "<div>\n",
       "<style scoped>\n",
       "    .dataframe tbody tr th:only-of-type {\n",
       "        vertical-align: middle;\n",
       "    }\n",
       "\n",
       "    .dataframe tbody tr th {\n",
       "        vertical-align: top;\n",
       "    }\n",
       "\n",
       "    .dataframe thead th {\n",
       "        text-align: right;\n",
       "    }\n",
       "</style>\n",
       "<table border=\"1\" class=\"dataframe\">\n",
       "  <thead>\n",
       "    <tr style=\"text-align: right;\">\n",
       "      <th></th>\n",
       "      <th>id</th>\n",
       "      <th>mathematics_score</th>\n",
       "      <th>literature_score</th>\n",
       "      <th>physics_score</th>\n",
       "      <th>chemistry_score</th>\n",
       "      <th>biology_score</th>\n",
       "      <th>english_score</th>\n",
       "      <th>history_score</th>\n",
       "      <th>geography_score</th>\n",
       "      <th>civic_education_score</th>\n",
       "    </tr>\n",
       "  </thead>\n",
       "  <tbody>\n",
       "    <tr>\n",
       "      <th>80</th>\n",
       "      <td>1000001</td>\n",
       "      <td>3.6</td>\n",
       "      <td>5.00</td>\n",
       "      <td>NaN</td>\n",
       "      <td>NaN</td>\n",
       "      <td>NaN</td>\n",
       "      <td>4.0</td>\n",
       "      <td>2.75</td>\n",
       "      <td>6.0</td>\n",
       "      <td>8.75</td>\n",
       "    </tr>\n",
       "    <tr>\n",
       "      <th>68</th>\n",
       "      <td>1000002</td>\n",
       "      <td>8.4</td>\n",
       "      <td>6.75</td>\n",
       "      <td>NaN</td>\n",
       "      <td>NaN</td>\n",
       "      <td>NaN</td>\n",
       "      <td>7.6</td>\n",
       "      <td>8.50</td>\n",
       "      <td>7.5</td>\n",
       "      <td>8.25</td>\n",
       "    </tr>\n",
       "    <tr>\n",
       "      <th>77</th>\n",
       "      <td>1000003</td>\n",
       "      <td>5.8</td>\n",
       "      <td>7.50</td>\n",
       "      <td>NaN</td>\n",
       "      <td>NaN</td>\n",
       "      <td>NaN</td>\n",
       "      <td>5.0</td>\n",
       "      <td>7.25</td>\n",
       "      <td>5.5</td>\n",
       "      <td>8.75</td>\n",
       "    </tr>\n",
       "    <tr>\n",
       "      <th>42</th>\n",
       "      <td>1000004</td>\n",
       "      <td>7.4</td>\n",
       "      <td>7.50</td>\n",
       "      <td>NaN</td>\n",
       "      <td>NaN</td>\n",
       "      <td>NaN</td>\n",
       "      <td>8.6</td>\n",
       "      <td>7.50</td>\n",
       "      <td>6.5</td>\n",
       "      <td>7.50</td>\n",
       "    </tr>\n",
       "    <tr>\n",
       "      <th>41</th>\n",
       "      <td>1000005</td>\n",
       "      <td>7.2</td>\n",
       "      <td>8.50</td>\n",
       "      <td>NaN</td>\n",
       "      <td>NaN</td>\n",
       "      <td>NaN</td>\n",
       "      <td>9.0</td>\n",
       "      <td>8.00</td>\n",
       "      <td>8.5</td>\n",
       "      <td>8.25</td>\n",
       "    </tr>\n",
       "  </tbody>\n",
       "</table>\n",
       "</div>"
      ],
      "text/plain": [
       "         id  mathematics_score  literature_score  physics_score  \\\n",
       "80  1000001                3.6              5.00            NaN   \n",
       "68  1000002                8.4              6.75            NaN   \n",
       "77  1000003                5.8              7.50            NaN   \n",
       "42  1000004                7.4              7.50            NaN   \n",
       "41  1000005                7.2              8.50            NaN   \n",
       "\n",
       "    chemistry_score  biology_score  english_score  history_score  \\\n",
       "80              NaN            NaN            4.0           2.75   \n",
       "68              NaN            NaN            7.6           8.50   \n",
       "77              NaN            NaN            5.0           7.25   \n",
       "42              NaN            NaN            8.6           7.50   \n",
       "41              NaN            NaN            9.0           8.00   \n",
       "\n",
       "    geography_score  civic_education_score  \n",
       "80              6.0                   8.75  \n",
       "68              7.5                   8.25  \n",
       "77              5.5                   8.75  \n",
       "42              6.5                   7.50  \n",
       "41              8.5                   8.25  "
      ]
     },
     "execution_count": 16,
     "metadata": {},
     "output_type": "execute_result"
    }
   ],
   "source": [
    "raw_df.sort_values(by='id', ascending=True, inplace=True)\n",
    "raw_df.head()"
   ]
  },
  {
   "cell_type": "markdown",
   "metadata": {},
   "source": [
    "**6. Tiến hành ghi tập dữ liệu sau khi xử lý vào file csv.**"
   ]
  },
  {
   "cell_type": "code",
   "execution_count": 17,
   "metadata": {},
   "outputs": [],
   "source": [
    "processed_dataset_path = dataset_source_path / 'THPTQG_2022_processed.csv'\n",
    "raw_df.to_csv(processed_dataset_path, index=False)"
   ]
  }
 ],
 "metadata": {
  "kernelspec": {
   "display_name": "Python 3",
   "language": "python",
   "name": "python3"
  },
  "language_info": {
   "codemirror_mode": {
    "name": "ipython",
    "version": 3
   },
   "file_extension": ".py",
   "mimetype": "text/x-python",
   "name": "python",
   "nbconvert_exporter": "python",
   "pygments_lexer": "ipython3",
   "version": "3.12.5"
  }
 },
 "nbformat": 4,
 "nbformat_minor": 2
}
